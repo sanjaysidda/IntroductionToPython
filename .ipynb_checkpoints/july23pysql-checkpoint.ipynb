{
 "cells": [
  {
   "cell_type": "code",
   "execution_count": null,
   "metadata": {},
   "outputs": [],
   "source": [
    "a = 5\n",
    "b = a\n",
    "c = a + b\n",
    "d = c\n",
    "e = d - a"
   ]
  },
  {
   "cell_type": "code",
   "execution_count": null,
   "metadata": {},
   "outputs": [],
   "source": [
    "print(e)"
   ]
  },
  {
   "cell_type": "code",
   "execution_count": 2,
   "metadata": {},
   "outputs": [
    {
     "name": "stdout",
     "output_type": "stream",
     "text": [
      "2.7e+17\n"
     ]
    }
   ],
   "source": [
    "import math\n",
    "m=3\n",
    "c=3 * math.pow(10,8)\n",
    "e=m * math.pow(c,2)\n",
    "print(e)"
   ]
  },
  {
   "cell_type": "code",
   "execution_count": 3,
   "metadata": {},
   "outputs": [
    {
     "name": "stdout",
     "output_type": "stream",
     "text": [
      "270000000000000000\n"
     ]
    }
   ],
   "source": [
    "import math\n",
    "m=3\n",
    "c=3 * (10**8)\n",
    "e=m * (c**2)\n",
    "print(e)"
   ]
  },
  {
   "cell_type": "code",
   "execution_count": 4,
   "metadata": {},
   "outputs": [
    {
     "name": "stdout",
     "output_type": "stream",
     "text": [
      "216.00000000000006\n"
     ]
    }
   ],
   "source": [
    "import math\n",
    "m=3\n",
    "c=3 * math.sqrt(8)\n",
    "e=m * math.pow(c,2)\n",
    "print(e)"
   ]
  },
  {
   "cell_type": "code",
   "execution_count": null,
   "metadata": {},
   "outputs": [],
   "source": []
  }
 ],
 "metadata": {
  "kernelspec": {
   "display_name": "Python 3",
   "language": "python",
   "name": "python3"
  }
 },
 "nbformat": 4,
 "nbformat_minor": 4
}
